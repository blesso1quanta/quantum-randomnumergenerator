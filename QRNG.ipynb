{
 "cells": [
  {
   "cell_type": "code",
   "execution_count": 1,
   "id": "1a7c0664",
   "metadata": {},
   "outputs": [
    {
     "name": "stdout",
     "output_type": "stream",
     "text": [
      "Requirement already satisfied: qiskit in c:\\users\\bless\\anaconda3\\lib\\site-packages (0.36.2)\n",
      "Requirement already satisfied: qiskit-ibmq-provider==0.19.1 in c:\\users\\bless\\anaconda3\\lib\\site-packages (from qiskit) (0.19.1)\n",
      "Requirement already satisfied: qiskit-terra==0.20.2 in c:\\users\\bless\\anaconda3\\lib\\site-packages (from qiskit) (0.20.2)\n",
      "Requirement already satisfied: qiskit-ignis==0.7.1 in c:\\users\\bless\\anaconda3\\lib\\site-packages (from qiskit) (0.7.1)\n",
      "Requirement already satisfied: qiskit-aer==0.10.4 in c:\\users\\bless\\anaconda3\\lib\\site-packages (from qiskit) (0.10.4)\n",
      "Requirement already satisfied: scipy>=1.0 in c:\\users\\bless\\anaconda3\\lib\\site-packages (from qiskit-aer==0.10.4->qiskit) (1.7.1)\n",
      "Requirement already satisfied: numpy>=1.16.3 in c:\\users\\bless\\anaconda3\\lib\\site-packages (from qiskit-aer==0.10.4->qiskit) (1.20.3)\n",
      "Requirement already satisfied: requests>=2.19 in c:\\users\\bless\\anaconda3\\lib\\site-packages (from qiskit-ibmq-provider==0.19.1->qiskit) (2.26.0)\n",
      "Requirement already satisfied: requests-ntlm>=1.1.0 in c:\\users\\bless\\anaconda3\\lib\\site-packages (from qiskit-ibmq-provider==0.19.1->qiskit) (1.1.0)\n",
      "Requirement already satisfied: urllib3>=1.21.1 in c:\\users\\bless\\anaconda3\\lib\\site-packages (from qiskit-ibmq-provider==0.19.1->qiskit) (1.26.7)\n",
      "Requirement already satisfied: websocket-client>=1.0.1 in c:\\users\\bless\\anaconda3\\lib\\site-packages (from qiskit-ibmq-provider==0.19.1->qiskit) (1.3.2)\n",
      "Requirement already satisfied: python-dateutil>=2.8.0 in c:\\users\\bless\\anaconda3\\lib\\site-packages (from qiskit-ibmq-provider==0.19.1->qiskit) (2.8.2)\n",
      "Requirement already satisfied: websockets>=10.0 in c:\\users\\bless\\anaconda3\\lib\\site-packages (from qiskit-ibmq-provider==0.19.1->qiskit) (10.3)\n",
      "Requirement already satisfied: retworkx>=0.8.0 in c:\\users\\bless\\anaconda3\\lib\\site-packages (from qiskit-ignis==0.7.1->qiskit) (0.11.0)\n",
      "Requirement already satisfied: setuptools>=40.1.0 in c:\\users\\bless\\anaconda3\\lib\\site-packages (from qiskit-ignis==0.7.1->qiskit) (58.0.4)\n",
      "Requirement already satisfied: ply>=3.10 in c:\\users\\bless\\anaconda3\\lib\\site-packages (from qiskit-terra==0.20.2->qiskit) (3.11)\n",
      "Requirement already satisfied: stevedore>=3.0.0 in c:\\users\\bless\\anaconda3\\lib\\site-packages (from qiskit-terra==0.20.2->qiskit) (3.5.0)\n",
      "Requirement already satisfied: tweedledum<2.0,>=1.1 in c:\\users\\bless\\anaconda3\\lib\\site-packages (from qiskit-terra==0.20.2->qiskit) (1.1.1)\n",
      "Requirement already satisfied: dill>=0.3 in c:\\users\\bless\\anaconda3\\lib\\site-packages (from qiskit-terra==0.20.2->qiskit) (0.3.5.1)\n",
      "Requirement already satisfied: sympy>=1.3 in c:\\users\\bless\\anaconda3\\lib\\site-packages (from qiskit-terra==0.20.2->qiskit) (1.9)\n",
      "Requirement already satisfied: python-constraint>=1.4 in c:\\users\\bless\\anaconda3\\lib\\site-packages (from qiskit-terra==0.20.2->qiskit) (1.4.0)\n",
      "Requirement already satisfied: psutil>=5 in c:\\users\\bless\\anaconda3\\lib\\site-packages (from qiskit-terra==0.20.2->qiskit) (5.8.0)\n",
      "Requirement already satisfied: six>=1.5 in c:\\users\\bless\\anaconda3\\lib\\site-packages (from python-dateutil>=2.8.0->qiskit-ibmq-provider==0.19.1->qiskit) (1.16.0)\n",
      "Requirement already satisfied: idna<4,>=2.5 in c:\\users\\bless\\anaconda3\\lib\\site-packages (from requests>=2.19->qiskit-ibmq-provider==0.19.1->qiskit) (3.2)\n",
      "Requirement already satisfied: certifi>=2017.4.17 in c:\\users\\bless\\anaconda3\\lib\\site-packages (from requests>=2.19->qiskit-ibmq-provider==0.19.1->qiskit) (2021.10.8)\n",
      "Requirement already satisfied: charset-normalizer~=2.0.0 in c:\\users\\bless\\anaconda3\\lib\\site-packages (from requests>=2.19->qiskit-ibmq-provider==0.19.1->qiskit) (2.0.4)\n",
      "Requirement already satisfied: ntlm-auth>=1.0.2 in c:\\users\\bless\\anaconda3\\lib\\site-packages (from requests-ntlm>=1.1.0->qiskit-ibmq-provider==0.19.1->qiskit) (1.5.0)\n",
      "Requirement already satisfied: cryptography>=1.3 in c:\\users\\bless\\anaconda3\\lib\\site-packages (from requests-ntlm>=1.1.0->qiskit-ibmq-provider==0.19.1->qiskit) (3.4.8)\n",
      "Requirement already satisfied: cffi>=1.12 in c:\\users\\bless\\anaconda3\\lib\\site-packages (from cryptography>=1.3->requests-ntlm>=1.1.0->qiskit-ibmq-provider==0.19.1->qiskit) (1.14.6)\n",
      "Requirement already satisfied: pycparser in c:\\users\\bless\\anaconda3\\lib\\site-packages (from cffi>=1.12->cryptography>=1.3->requests-ntlm>=1.1.0->qiskit-ibmq-provider==0.19.1->qiskit) (2.20)\n",
      "Requirement already satisfied: pbr!=2.1.0,>=2.0.0 in c:\\users\\bless\\anaconda3\\lib\\site-packages (from stevedore>=3.0.0->qiskit-terra==0.20.2->qiskit) (5.9.0)\n",
      "Requirement already satisfied: mpmath>=0.19 in c:\\users\\bless\\anaconda3\\lib\\site-packages (from sympy>=1.3->qiskit-terra==0.20.2->qiskit) (1.2.1)\n",
      "Note: you may need to restart the kernel to use updated packages.\n"
     ]
    }
   ],
   "source": [
    "pip install qiskit"
   ]
  },
  {
   "cell_type": "code",
   "execution_count": 2,
   "id": "b9ffc950",
   "metadata": {},
   "outputs": [],
   "source": [
    "from qiskit import *"
   ]
  },
  {
   "cell_type": "code",
   "execution_count": 3,
   "id": "b3043eb4",
   "metadata": {},
   "outputs": [
    {
     "name": "stderr",
     "output_type": "stream",
     "text": [
      "configrc.store_credentials:WARNING:2022-05-25 17:40:49,092: Credentials already present. Set overwrite=True to overwrite.\n"
     ]
    }
   ],
   "source": [
    "IBMQ.save_account('85293e025b758b81067db474781bc222ecafbeb6fa88d4dad68b8dcf3bd4c62b392b3e4cc6fa3c3690cab5dde4ab187a7a15b6af028f4ecf7eb6ac0b89b2adb5')"
   ]
  },
  {
   "cell_type": "code",
   "execution_count": 4,
   "id": "705d924d",
   "metadata": {},
   "outputs": [
    {
     "data": {
      "text/plain": [
       "<AccountProvider for IBMQ(hub='ibm-q', group='open', project='main')>"
      ]
     },
     "execution_count": 4,
     "metadata": {},
     "output_type": "execute_result"
    }
   ],
   "source": [
    "IBMQ.load_account()"
   ]
  },
  {
   "cell_type": "code",
   "execution_count": 5,
   "id": "8a87dc0f",
   "metadata": {},
   "outputs": [
    {
     "name": "stdout",
     "output_type": "stream",
     "text": [
      "Requirement already satisfied: pylatexenc in c:\\users\\bless\\anaconda3\\lib\\site-packages (2.10)\n",
      "Note: you may need to restart the kernel to use updated packages.\n"
     ]
    }
   ],
   "source": [
    "pip install pylatexenc"
   ]
  },
  {
   "cell_type": "code",
   "execution_count": 6,
   "id": "a3ac1c70",
   "metadata": {},
   "outputs": [
    {
     "data": {
      "text/plain": [
       "<qiskit.circuit.instructionset.InstructionSet at 0x2dfd3672d80>"
      ]
     },
     "execution_count": 6,
     "metadata": {},
     "output_type": "execute_result"
    }
   ],
   "source": [
    "num_qubits = 3\n",
    "circ = QuantumCircuit(num_qubits, num_qubits)\n",
    "circ.h(range(num_qubits))\n",
    "circ.measure(range(num_qubits),range(num_qubits))"
   ]
  },
  {
   "cell_type": "code",
   "execution_count": 7,
   "id": "cf84942e",
   "metadata": {},
   "outputs": [
    {
     "data": {
      "image/png": "[encoded data removed]",
      "text/plain": [
       "<Figure size 327.397x264.88 with 1 Axes>"
      ]
     },
     "execution_count": 7,
     "metadata": {},
     "output_type": "execute_result"
    }
   ],
   "source": [
    "circ.draw('mpl')"
   ]
  },
  {
   "cell_type": "code",
   "execution_count": 9,
   "id": "294edd02",
   "metadata": {},
   "outputs": [
    {
     "name": "stdout",
     "output_type": "stream",
     "text": [
      "{'111': 125, '101': 141, '000': 138, '001': 125, '010': 141, '011': 110, '110': 130, '100': 114}\n"
     ]
    }
   ],
   "source": [
    "backend_sim = Aer.get_backend('qasm_simulator')\n",
    "job_sim = execute(circ, backend_sim, shots=8000)\n",
    "results_sim = job_sim.result()\n",
    "counts = results_sim.get_counts(circ)\n",
    "print(counts)"
   ]
  },
  {
   "cell_type": "code",
   "execution_count": 10,
   "id": "7f1ac26b",
   "metadata": {},
   "outputs": [
    {
     "data": {
      "image/png": "[encoded data removed]",
      "text/plain": [
       "<Figure size 504x360 with 1 Axes>"
      ]
     },
     "execution_count": 10,
     "metadata": {},
     "output_type": "execute_result"
    }
   ],
   "source": [
    "from qiskit.visualization import plot_histogram\n",
    "plot_histogram(counts)"
   ]
  },
  {
   "cell_type": "code",
   "execution_count": 13,
   "id": "86c858aa",
   "metadata": {},
   "outputs": [],
   "source": [
    "def quantum_random_number_generator(backend):\n",
    "    \n",
    "    provider = IBMQ.get_provider()\n",
    "    backend_sim = provider.get_backend(backend)\n",
    "    job_sim = execute(circ, backend_sim, shots=1)\n",
    "    results_sim = job_sim.result()\n",
    "    counts = results_sim.get_counts(circ)\n",
    "        \n",
    "    return int(list(counts.keys())[0], 2)\n",
    "        "
   ]
  },
  {
   "cell_type": "code",
   "execution_count": 14,
   "id": "9e92cf10",
   "metadata": {},
   "outputs": [
    {
     "name": "stdout",
     "output_type": "stream",
     "text": [
      "6\n",
      "1\n",
      "7\n",
      "2\n",
      "2\n",
      "5\n",
      "6\n",
      "1\n",
      "1\n",
      "4\n"
     ]
    }
   ],
   "source": [
    "for i in range(10):\n",
    "    print(quantum_random_number_generator('ibmq_bogota'))"
   ]
  },
  {
   "cell_type": "code",
   "execution_count": null,
   "id": "c04fabe4",
   "metadata": {},
   "outputs": [],
   "source": []
  }
 ],
 "metadata": {
  "kernelspec": {
   "display_name": "Python 3 (ipykernel)",
   "language": "python",
   "name": "python3"
  },
  "language_info": {
   "codemirror_mode": {
    "name": "ipython",
    "version": 3
   },
   "file_extension": ".py",
   "mimetype": "text/x-python",
   "name": "python",
   "nbconvert_exporter": "python",
   "pygments_lexer": "ipython3",
   "version": "3.9.7"
  }
 },
 "nbformat": 4,
 "nbformat_minor": 5
}
